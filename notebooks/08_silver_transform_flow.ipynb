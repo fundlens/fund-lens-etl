{
 "cells": [
  {
   "cell_type": "code",
   "execution_count": null,
   "id": "0",
   "metadata": {},
   "outputs": [],
   "source": [
    "from fund_lens_etl.flows.silver_transformation_flow import silver_transformation_flow\n",
    "import json"
   ]
  },
  {
   "cell_type": "code",
   "execution_count": null,
   "id": "1",
   "metadata": {},
   "outputs": [],
   "source": [
    "# Run transformation for MD 2026 data\n",
    "results = silver_transformation_flow(\n",
    "    state=\"MD\",\n",
    "    cycle=2026,\n",
    ")"
   ]
  },
  {
   "cell_type": "code",
   "execution_count": null,
   "id": "2",
   "metadata": {},
   "outputs": [],
   "source": [
    "print(\"🔍 Filters Applied:\")\n",
    "print(json.dumps(results[\"filters\"], indent=2))"
   ]
  },
  {
   "cell_type": "code",
   "execution_count": null,
   "id": "3",
   "metadata": {},
   "outputs": [],
   "source": [
    "print(\"📈 Transformation Stats:\\n\")\n",
    "for entity_type, stats in results[\"transformations\"].items():\n",
    "    print(f\"{entity_type.upper()}:\")\n",
    "    print(f\"  Bronze records: {stats['bronze_records']}\")\n",
    "    print(f\"  Silver records: {stats['silver_records']}\")\n",
    "    print(f\"  Skipped: {stats['skipped']}\")\n",
    "    print()"
   ]
  },
  {
   "cell_type": "code",
   "execution_count": null,
   "id": "4",
   "metadata": {},
   "outputs": [],
   "source": [
    "print(\"✅ Validation Results:\\n\")\n",
    "for entity_type, validation in results[\"validations\"].items():\n",
    "    print(f\"{entity_type.upper()}: {validation['status']}\")\n",
    "    print(f\"  Skip rate: {validation['skip_rate_pct']}%\")\n",
    "\n",
    "    if validation[\"warnings\"]:\n",
    "        for warning in validation[\"warnings\"]:\n",
    "            print(f\"  ⚠️  {warning}\")\n",
    "\n",
    "    if validation[\"errors\"]:\n",
    "        for error in validation[\"errors\"]:\n",
    "            print(f\"  ❌ {error}\")\n",
    "    print()"
   ]
  },
  {
   "cell_type": "code",
   "execution_count": null,
   "id": "5",
   "metadata": {},
   "outputs": [],
   "source": [
    "print(\"📋 SUMMARY\\n\")\n",
    "summary = results[\"summary\"]\n",
    "print(f\"Total Bronze records: {summary['total_bronze_records']}\")\n",
    "print(f\"Total Silver records: {summary['total_silver_records']}\")\n",
    "print(f\"Total skipped: {summary['total_skipped']}\")\n",
    "\n",
    "print(\"\\nValidation Status:\")\n",
    "for entity, status in summary[\"validation_status\"].items():\n",
    "    emoji = \"✅\" if status == \"success\" else \"⚠️\" if status == \"warning\" else \"❌\"\n",
    "    print(f\"  {emoji} {entity}: {status}\")"
   ]
  }
 ],
 "metadata": {
  "kernelspec": {
   "display_name": "Python 3",
   "language": "python",
   "name": "python3"
  },
  "language_info": {
   "codemirror_mode": {
    "name": "ipython",
    "version": 2
   },
   "file_extension": ".py",
   "mimetype": "text/x-python",
   "name": "python",
   "nbconvert_exporter": "python",
   "pygments_lexer": "ipython2",
   "version": "2.7.6"
  }
 },
 "nbformat": 4,
 "nbformat_minor": 5
}
