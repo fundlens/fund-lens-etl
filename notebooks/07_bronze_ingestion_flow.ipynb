{
 "cells": [
  {
   "cell_type": "code",
   "execution_count": null,
   "id": "0",
   "metadata": {},
   "outputs": [],
   "source": [
    "from fund_lens_etl.config import USState\n",
    "from fund_lens_etl.flows.bronze_ingestion_flow import bronze_ingestion_flow\n",
    "from datetime import date"
   ]
  },
  {
   "cell_type": "code",
   "execution_count": null,
   "id": "1",
   "metadata": {},
   "outputs": [],
   "source": [
    "# Test with a single committee first\n",
    "result = bronze_ingestion_flow(\n",
    "    state=USState.MD,\n",
    "    election_cycle=2026,\n",
    "    committee_ids=[\"C00840017\"],  # One of the committees that worked in our test\n",
    ")\n",
    "\n",
    "print(\"\\n\" + \"=\"*70)\n",
    "print(\"RESULTS:\")\n",
    "print(\"=\"*70)\n",
    "for key, value in result.items():\n",
    "    if key != \"committee_details\":\n",
    "        print(f\"{key}: {value}\")"
   ]
  },
  {
   "cell_type": "code",
   "execution_count": null,
   "id": "2",
   "metadata": {},
   "outputs": [],
   "source": [
    "from fund_lens_etl.database import get_session\n",
    "from sqlalchemy import text\n",
    "\n",
    "with get_session() as session:\n",
    "    # Check committees\n",
    "    committees = session.execute(\n",
    "        text(\"SELECT COUNT(*) FROM bronze_fec_committee\")\n",
    "    ).scalar()\n",
    "\n",
    "    # Check candidates\n",
    "    candidates = session.execute(\n",
    "        text(\"SELECT COUNT(*) FROM bronze_fec_candidate\")\n",
    "    ).scalar()\n",
    "\n",
    "    # Check contributions\n",
    "    contributions = session.execute(\n",
    "        text(\"SELECT COUNT(*) FROM bronze_fec_schedule_a\")\n",
    "    ).scalar()\n",
    "\n",
    "    print(f\"Database counts:\")\n",
    "    print(f\"  Committees: {committees}\")\n",
    "    print(f\"  Candidates: {candidates}\")\n",
    "    print(f\"  Contributions: {contributions}\")"
   ]
  },
  {
   "cell_type": "code",
   "execution_count": null,
   "id": "3",
   "metadata": {},
   "outputs": [],
   "source": [
    "from fund_lens_etl.database import get_session\n",
    "from sqlalchemy import text\n",
    "\n",
    "with get_session() as session:\n",
    "    # Get sample contributions\n",
    "    result = session.execute(\n",
    "        text(\"\"\"\n",
    "            SELECT\n",
    "                sub_id,\n",
    "                contributor_name,\n",
    "                contribution_receipt_amount,\n",
    "                contribution_receipt_date,\n",
    "                committee_id\n",
    "            FROM bronze_fec_schedule_a\n",
    "            LIMIT 5\n",
    "        \"\"\")\n",
    "    )\n",
    "\n",
    "    print(\"Sample contributions:\")\n",
    "    for row in result:\n",
    "        print(f\"  {row.contributor_name}: ${row.contribution_receipt_amount} on {row.contribution_receipt_date}\")"
   ]
  },
  {
   "cell_type": "code",
   "execution_count": null,
   "id": "4",
   "metadata": {},
   "outputs": [],
   "source": [
    "# Full run - all MD candidate committees\n",
    "result = bronze_ingestion_flow(\n",
    "    state=USState.MD,\n",
    "    election_cycle=2026,\n",
    "    # No committee_ids = process all candidate committees\n",
    ")\n",
    "\n",
    "print(\"\\n\" + \"=\"*70)\n",
    "print(\"FULL RUN RESULTS:\")\n",
    "print(\"=\"*70)\n",
    "for key, value in result.items():\n",
    "    if key != \"committee_details\":\n",
    "        print(f\"{key}: {value}\")\n",
    "\n",
    "# Show per-committee breakdown\n",
    "print(\"\\nPer-Committee Breakdown:\")\n",
    "for detail in result[\"committee_details\"]:\n",
    "    print(f\"  {detail['committee_name']}: {detail['total_records']:,} contributions\")"
   ]
  }
 ],
 "metadata": {
  "kernelspec": {
   "display_name": "Python 3",
   "language": "python",
   "name": "python3"
  },
  "language_info": {
   "codemirror_mode": {
    "name": "ipython",
    "version": 2
   },
   "file_extension": ".py",
   "mimetype": "text/x-python",
   "name": "python",
   "nbconvert_exporter": "python",
   "pygments_lexer": "ipython2",
   "version": "2.7.6"
  }
 },
 "nbformat": 4,
 "nbformat_minor": 5
}
