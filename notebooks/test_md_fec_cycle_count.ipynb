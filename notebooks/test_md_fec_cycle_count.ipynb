{
 "cells": [
  {
   "cell_type": "code",
   "execution_count": null,
   "id": "0",
   "metadata": {},
   "outputs": [],
   "source": [
    "import requests\n",
    "from fund_lens_etl.config import FEC_API_KEY\n",
    "\n",
    "# Query the FEC API for MD 2024 contributions\n",
    "url = \"https://api.open.fec.gov/v1/schedules/schedule_a/\"\n",
    "params = {\n",
    "    \"api_key\": FEC_API_KEY,\n",
    "    \"contributor_state\": \"MD\",\n",
    "    \"two_year_transaction_period\": 2024,\n",
    "    \"per_page\": 1,  # We just want the count, not the data\n",
    "    \"sort\": \"-contribution_receipt_date\"\n",
    "}\n",
    "\n",
    "response = requests.get(url, params=params)\n",
    "data = response.json()\n",
    "\n",
    "total_count = data.get(\"pagination\", {}).get(\"count\", 0)\n",
    "pages = data.get(\"pagination\", {}).get(\"pages\", 0)\n",
    "\n",
    "print(f\"Total MD 2024 contributions in FEC: {total_count:,}\")\n",
    "print(f\"Total pages (at 100 per page): {pages:,}\")\n",
    "print(f\"Estimated API calls needed: {pages}\")"
   ]
  }
 ],
 "metadata": {
  "kernelspec": {
   "display_name": "Python 3",
   "language": "python",
   "name": "python3"
  },
  "language_info": {
   "codemirror_mode": {
    "name": "ipython",
    "version": 2
   },
   "file_extension": ".py",
   "mimetype": "text/x-python",
   "name": "python",
   "nbconvert_exporter": "python",
   "pygments_lexer": "ipython2",
   "version": "2.7.6"
  }
 },
 "nbformat": 4,
 "nbformat_minor": 5
}
