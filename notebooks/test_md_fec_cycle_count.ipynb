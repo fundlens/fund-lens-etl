{
 "cells": [
  {
   "cell_type": "code",
   "execution_count": null,
   "id": "0",
   "metadata": {},
   "outputs": [],
   "source": [
    "import requests\n",
    "from fund_lens_etl.config import FEC_API_KEY\n",
    "\n",
    "url = \"https://api.open.fec.gov/v1/schedules/schedule_a/\"\n",
    "params = {\n",
    "    \"api_key\": FEC_API_KEY,\n",
    "    \"contributor_state\": \"MD\",\n",
    "    \"two_year_transaction_period\": 2026,\n",
    "    \"per_page\": 1,  # Just want the count\n",
    "}\n",
    "\n",
    "response = requests.get(url, params=params)\n",
    "data = response.json()\n",
    "\n",
    "total = data.get(\"pagination\", {}).get(\"count\", 0)\n",
    "pages = data.get(\"pagination\", {}).get(\"pages\", 0)\n",
    "\n",
    "print(f\"Total MD 2026 contributions in FEC: {total:,}\")\n",
    "print(f\"Total API calls needed: {pages:,}\")\n",
    "print(f\"\\nYou have: 5,000\")\n",
    "print(f\"Remaining: {total - 5000:,}\")"
   ]
  }
 ],
 "metadata": {
  "kernelspec": {
   "display_name": "Python 3",
   "language": "python",
   "name": "python3"
  },
  "language_info": {
   "codemirror_mode": {
    "name": "ipython",
    "version": 2
   },
   "file_extension": ".py",
   "mimetype": "text/x-python",
   "name": "python",
   "nbconvert_exporter": "python",
   "pygments_lexer": "ipython2",
   "version": "2.7.6"
  }
 },
 "nbformat": 4,
 "nbformat_minor": 5
}
