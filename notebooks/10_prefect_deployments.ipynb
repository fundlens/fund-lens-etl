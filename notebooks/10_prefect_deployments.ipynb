{
 "cells": [
  {
   "cell_type": "markdown",
   "id": "0",
   "metadata": {},
   "source": [
    "# Prefect Deployments - Testing & Configuration\n",
    "\n",
    "This notebook helps you test and configure Prefect deployments before pushing to production.\n",
    "\n",
    "**Prerequisites:**\n",
    "- Prefect server running (Cloud or self-hosted)\n",
    "- Environment variables configured\n",
    "- Database accessible"
   ]
  },
  {
   "cell_type": "code",
   "execution_count": null,
   "id": "1",
   "metadata": {},
   "outputs": [],
   "source": [
    "from fund_lens_etl.deployments.schedules import (\n",
    "    create_bronze_deployments,\n",
    "    create_silver_deployments,\n",
    "    create_gold_deployments,\n",
    "    create_all_deployments,\n",
    "    print_schedule_summary\n",
    ")"
   ]
  },
  {
   "cell_type": "markdown",
   "id": "2",
   "metadata": {},
   "source": [
    "## 1. View Deployment Schedule Summary"
   ]
  },
  {
   "cell_type": "code",
   "execution_count": null,
   "id": "3",
   "metadata": {},
   "outputs": [],
   "source": [
    "print_schedule_summary()"
   ]
  },
  {
   "cell_type": "markdown",
   "id": "4",
   "metadata": {},
   "source": [
    "## 2. Create Deployment Objects\n",
    "\n",
    "Create deployment configurations (doesn't register with Prefect yet)"
   ]
  },
  {
   "cell_type": "code",
   "execution_count": null,
   "id": "5",
   "metadata": {},
   "outputs": [],
   "source": [
    "# Create bronze deployments\n",
    "bronze_deployments = create_bronze_deployments()\n",
    "print(f\"Created {len(bronze_deployments)} bronze deployments:\")\n",
    "for dep in bronze_deployments:\n",
    "    print(f\"  - {dep.name}\")"
   ]
  },
  {
   "cell_type": "code",
   "execution_count": null,
   "id": "6",
   "metadata": {},
   "outputs": [],
   "source": [
    "# Create silver deployments\n",
    "silver_deployments = create_silver_deployments()\n",
    "print(f\"Created {len(silver_deployments)} silver deployments:\")\n",
    "for dep in silver_deployments:\n",
    "    print(f\"  - {dep.name}\")"
   ]
  },
  {
   "cell_type": "code",
   "execution_count": null,
   "id": "7",
   "metadata": {},
   "outputs": [],
   "source": [
    "# Create gold deployments\n",
    "gold_deployments = create_gold_deployments()\n",
    "print(f\"Created {len(gold_deployments)} gold deployments:\")\n",
    "for dep in gold_deployments:\n",
    "    print(f\"  - {dep.name}\")"
   ]
  },
  {
   "cell_type": "markdown",
   "id": "8",
   "metadata": {},
   "source": [
    "## 3. Inspect Deployment Configuration\n",
    "\n",
    "View details of a specific deployment before deploying"
   ]
  },
  {
   "cell_type": "code",
   "execution_count": null,
   "id": "9",
   "metadata": {},
   "outputs": [],
   "source": [
    "# Inspect bronze daily incremental deployment\n",
    "daily_incremental = bronze_deployments[0]\n",
    "\n",
    "print(f\"Name: {daily_incremental.name}\")\n",
    "print(f\"Version: {daily_incremental.version}\")\n",
    "print(f\"Description: {daily_incremental.description}\")\n",
    "print(f\"Tags: {daily_incremental.tags}\")\n",
    "print(f\"Schedule: {daily_incremental.schedule}\")\n",
    "print(f\"Parameters: {daily_incremental.parameters}\")"
   ]
  },
  {
   "cell_type": "markdown",
   "id": "10",
   "metadata": {},
   "source": [
    "## 4. Deploy to Prefect\n",
    "\n",
    "**⚠️ This will register deployments with your Prefect server!**\n",
    "\n",
    "Make sure you're connected to the correct Prefect server/workspace."
   ]
  },
  {
   "cell_type": "code",
   "execution_count": null,
   "id": "11",
   "metadata": {},
   "outputs": [],
   "source": [
    "# Check Prefect connection\n",
    "from prefect import get_client\n",
    "\n",
    "async def check_prefect_connection():\n",
    "    async with get_client() as client:\n",
    "        health = await client.api_healthcheck()\n",
    "        print(f\"✓ Connected to Prefect server\")\n",
    "        return True\n",
    "\n",
    "# Run check\n",
    "import asyncio\n",
    "await check_prefect_connection()"
   ]
  },
  {
   "cell_type": "code",
   "execution_count": null,
   "id": "12",
   "metadata": {},
   "outputs": [],
   "source": [
    "# Deploy bronze ingestion flows\n",
    "print(\"Deploying bronze ingestion flows...\")\n",
    "for deployment in bronze_deployments:\n",
    "    try:\n",
    "        deployment_id = deployment.apply()\n",
    "        print(f\"  ✓ Deployed: {deployment.name} (ID: {deployment_id})\")\n",
    "    except Exception as e:\n",
    "        print(f\"  ✗ Failed: {deployment.name} - {e}\")"
   ]
  },
  {
   "cell_type": "code",
   "execution_count": null,
   "id": "13",
   "metadata": {},
   "outputs": [],
   "source": [
    "# Deploy silver transformation flows\n",
    "print(\"Deploying silver transformation flows...\")\n",
    "for deployment in silver_deployments:\n",
    "    try:\n",
    "        deployment_id = deployment.apply()\n",
    "        print(f\"  ✓ Deployed: {deployment.name} (ID: {deployment_id})\")\n",
    "    except Exception as e:\n",
    "        print(f\"  ✗ Failed: {deployment.name} - {e}\")"
   ]
  },
  {
   "cell_type": "code",
   "execution_count": null,
   "id": "14",
   "metadata": {},
   "outputs": [],
   "source": [
    "# Deploy gold transformation flows\n",
    "print(\"Deploying gold transformation flows...\")\n",
    "for deployment in gold_deployments:\n",
    "    try:\n",
    "        deployment_id = deployment.apply()\n",
    "        print(f\"  ✓ Deployed: {deployment.name} (ID: {deployment_id})\")\n",
    "    except Exception as e:\n",
    "        print(f\"  ✗ Failed: {deployment.name} - {e}\")"
   ]
  },
  {
   "cell_type": "markdown",
   "id": "15",
   "metadata": {},
   "source": [
    "## 5. Verify Deployments\n",
    "\n",
    "List all deployments registered with Prefect"
   ]
  },
  {
   "cell_type": "code",
   "execution_count": null,
   "id": "16",
   "metadata": {},
   "outputs": [],
   "source": [
    "from prefect.deployments import Deployment\n",
    "\n",
    "# Note: This would need to use the Prefect API\n",
    "# For now, use CLI: prefect deployment ls\n",
    "print(\"To list deployments, run: prefect deployment ls\")"
   ]
  },
  {
   "cell_type": "markdown",
   "id": "17",
   "metadata": {},
   "source": [
    "## 6. Test a Deployment Run\n",
    "\n",
    "Trigger a manual run to test (won't wait for schedule)"
   ]
  },
  {
   "cell_type": "code",
   "execution_count": null,
   "id": "18",
   "metadata": {},
   "outputs": [],
   "source": [
    "# Example: Trigger bronze ingestion manually\n",
    "# Use CLI: prefect deployment run 'bronze_ingestion/bronze-ingestion-daily-incremental'\n",
    "\n",
    "print(\"To trigger a manual run:\")\n",
    "print(\"  prefect deployment run 'bronze_ingestion/bronze-ingestion-daily-incremental'\")\n",
    "print(\"\\nTo monitor the run:\")\n",
    "print(\"  prefect flow-run ls\")"
   ]
  },
  {
   "cell_type": "markdown",
   "id": "19",
   "metadata": {},
   "source": [
    "## 7. Clean Up / Delete Deployments\n",
    "\n",
    "If you need to remove deployments"
   ]
  },
  {
   "cell_type": "code",
   "execution_count": null,
   "id": "20",
   "metadata": {},
   "outputs": [],
   "source": [
    "# To delete a deployment, use CLI:\n",
    "print(\"To delete a deployment:\")\n",
    "print(\"  prefect deployment delete '<flow-name>/<deployment-name>'\")\n",
    "print(\"\\nExample:\")\n",
    "print(\"  prefect deployment delete 'bronze_ingestion/bronze-ingestion-daily-incremental'\")"
   ]
  }
 ],
 "metadata": {
  "kernelspec": {
   "display_name": "Python 3",
   "language": "python",
   "name": "python3"
  },
  "language_info": {
   "name": "python",
   "version": "3.12.0"
  }
 },
 "nbformat": 4,
 "nbformat_minor": 5
}
