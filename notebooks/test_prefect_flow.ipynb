{
 "cells": [
  {
   "cell_type": "code",
   "execution_count": null,
   "id": "0",
   "metadata": {},
   "outputs": [],
   "source": [
    "from fund_lens_etl.flows.extract_fec_contributions import extract_fec_contributions_flow\n",
    "\n",
    "# Optional: Check Prefect is installed\n",
    "import prefect\n",
    "\n",
    "import logging\n",
    "\n",
    "# Configure root logger to show everything\n",
    "logging.basicConfig(\n",
    "    level=logging.INFO,\n",
    "    format='%(asctime)s - %(name)s - %(levelname)s - %(message)s'\n",
    ")\n",
    "\n",
    "# Also set the specific service logger\n",
    "logging.getLogger('fund_lens_etl.services.fec_service').setLevel(logging.INFO)\n",
    "\n",
    "print(f\"Prefect version: {prefect.__version__}\")"
   ]
  },
  {
   "cell_type": "code",
   "execution_count": null,
   "id": "1",
   "metadata": {},
   "outputs": [],
   "source": [
    "# Test extraction with limited results\n",
    "# noinspection PyArgumentEqualDefault\n",
    "stats = extract_fec_contributions_flow(\n",
    "    state=\"MD\",\n",
    "    two_year_transaction_period=2024,\n",
    "    max_results=500\n",
    ")\n",
    "\n",
    "print(\"\\n=== Extraction Statistics ===\")\n",
    "print(f\"State: {stats['state']}\")\n",
    "print(f\"Cycle: {stats['cycle']}\")\n",
    "print(f\"Contributions fetched: {stats['contributions_fetched']}\")  # Changed\n",
    "print(f\"Contributions stored: {stats['contributions_stored']}\")    # Changed\n",
    "print(f\"Raw filing ID: {stats['raw_filing_id']}\")                  # Added\n",
    "print(f\"Duration: {stats['duration_seconds']:.2f} seconds\")"
   ]
  },
  {
   "cell_type": "code",
   "execution_count": null,
   "id": "2",
   "metadata": {},
   "outputs": [],
   "source": [
    "# Fetch MORE records to get some new ones beyond the first 500\n",
    "# noinspection PyArgumentEqualDefault\n",
    "stats = extract_fec_contributions_flow(\n",
    "    state=\"MD\",\n",
    "    two_year_transaction_period=2024,\n",
    "    max_results=1000  # Double the amount\n",
    ")\n",
    "\n",
    "print(\"\\n=== Extraction Statistics ===\")\n",
    "print(f\"State: {stats['state']}\")\n",
    "print(f\"Cycle: {stats['cycle']}\")\n",
    "print(f\"Contributions fetched: {stats['contributions_fetched']}\")\n",
    "print(f\"Contributions stored: {stats['contributions_stored']}\")\n",
    "print(f\"Raw filing ID: {stats['raw_filing_id']}\")\n",
    "print(f\"Duration: {stats['duration_seconds']:.2f} seconds\")"
   ]
  },
  {
   "cell_type": "code",
   "execution_count": null,
   "id": "3",
   "metadata": {},
   "outputs": [],
   "source": [
    "# Test with 1500 records - should get 500 NEW ones\n",
    "# noinspection PyArgumentEqualDefault\n",
    "stats = extract_fec_contributions_flow(\n",
    "    state=\"MD\",\n",
    "    two_year_transaction_period=2024,\n",
    "    max_results=1500\n",
    ")\n",
    "\n",
    "print(\"\\n=== Extraction Statistics ===\")\n",
    "print(f\"State: {stats['state']}\")\n",
    "print(f\"Cycle: {stats['cycle']}\")\n",
    "print(f\"Contributions fetched: {stats['contributions_fetched']}\")\n",
    "print(f\"Contributions stored: {stats['contributions_stored']}\")  # Should be ~500\n",
    "print(f\"Raw filing ID: {stats['raw_filing_id']}\")\n",
    "print(f\"Duration: {stats['duration_seconds']:.2f} seconds\")"
   ]
  },
  {
   "cell_type": "code",
   "execution_count": null,
   "id": "4",
   "metadata": {},
   "outputs": [],
   "source": [
    "# Try Virginia instead\n",
    "stats = extract_fec_contributions_flow(\n",
    "    state=\"VA\",\n",
    "    two_year_transaction_period=2024,\n",
    "    max_results=1000\n",
    ")\n",
    "\n",
    "print(f\"\\nVirginia: Fetched {stats['contributions_fetched']}, Stored {stats['contributions_stored']}\")"
   ]
  },
  {
   "cell_type": "code",
   "execution_count": null,
   "id": "5",
   "metadata": {},
   "outputs": [],
   "source": [
    "# Test with 2000 records - this will have a NEW file hash\n",
    "# noinspection PyArgumentEqualDefault\n",
    "stats = extract_fec_contributions_flow(\n",
    "    state=\"MD\",\n",
    "    two_year_transaction_period=2024,\n",
    "    max_results=2000\n",
    ")\n",
    "\n",
    "print(\"\\n=== Extraction Statistics ===\")\n",
    "print(f\"State: {stats['state']}\")\n",
    "print(f\"Cycle: {stats['cycle']}\")\n",
    "print(f\"Contributions fetched: {stats['contributions_fetched']}\")\n",
    "print(f\"Contributions stored: {stats['contributions_stored']}\")  # Should be ~500\n",
    "print(f\"Raw filing ID: {stats['raw_filing_id']}\")\n",
    "print(f\"Duration: {stats['duration_seconds']:.2f} seconds\")"
   ]
  },
  {
   "cell_type": "code",
   "execution_count": null,
   "id": "6",
   "metadata": {},
   "outputs": [],
   "source": [
    "from sqlalchemy import create_engine, text\n",
    "from fund_lens_etl.config import get_database_url\n",
    "\n",
    "engine = create_engine(get_database_url())\n",
    "\n",
    "with engine.connect() as conn:\n",
    "    # Check raw filings\n",
    "    raw_count = conn.execute(text(\"SELECT COUNT(*) FROM raw_filings\")).scalar()\n",
    "    print(f\"Raw filings: {raw_count}\")\n",
    "\n",
    "    # Check staging contributions\n",
    "    staging_count = conn.execute(text(\"SELECT COUNT(*) FROM fec_contributions_staging\")).scalar()\n",
    "    print(f\"Staging contributions: {staging_count}\")"
   ]
  }
 ],
 "metadata": {
  "kernelspec": {
   "display_name": "Python 3",
   "language": "python",
   "name": "python3"
  },
  "language_info": {
   "codemirror_mode": {
    "name": "ipython",
    "version": 2
   },
   "file_extension": ".py",
   "mimetype": "text/x-python",
   "name": "python",
   "nbconvert_exporter": "python",
   "pygments_lexer": "ipython2",
   "version": "2.7.6"
  }
 },
 "nbformat": 4,
 "nbformat_minor": 5
}
