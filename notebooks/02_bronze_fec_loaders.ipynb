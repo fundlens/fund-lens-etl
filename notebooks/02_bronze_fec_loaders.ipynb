{
 "cells": [
  {
   "cell_type": "code",
   "execution_count": null,
   "id": "0",
   "metadata": {},
   "outputs": [],
   "source": [
    "# Cell 1: Setup\n",
    "%load_ext autoreload\n",
    "%autoreload 2\n",
    "\n",
    "import pandas as pd\n",
    "from fund_lens_etl.clients.fec import FECAPIClient\n",
    "from fund_lens_etl.extractors.fec import (\n",
    "    FECScheduleAExtractor,\n",
    "    FECCommitteeExtractor,\n",
    "    FECCandidateExtractor,\n",
    ")\n",
    "from fund_lens_etl.loaders.bronze import (\n",
    "    BronzeFECScheduleALoader,\n",
    "    BronzeFECCommitteeLoader,\n",
    "    BronzeFECCandidateLoader,\n",
    ")\n",
    "from fund_lens_etl.database import get_db_session\n",
    "from fund_lens_etl.config import USState\n",
    "\n",
    "print(\"✓ Imports successful\")"
   ]
  },
  {
   "cell_type": "code",
   "execution_count": null,
   "id": "1",
   "metadata": {},
   "outputs": [],
   "source": [
    "# Cell 2: Test Committee Extract + Load\n",
    "print(\"=\"*60)\n",
    "print(\"TEST 1: Extract & Load Committees\")\n",
    "print(\"=\"*60)\n",
    "\n",
    "# Extract\n",
    "client = FECAPIClient()\n",
    "committee_extractor = FECCommitteeExtractor(api_client=client)\n",
    "committee_df = committee_extractor.extract(committee_ids=[\"C00840017\"])\n",
    "\n",
    "print(f\"Extracted {len(committee_df)} committees\")\n",
    "print(f\"Columns: {committee_df.columns.tolist()}\")\n",
    "\n",
    "# Load\n",
    "committee_loader = BronzeFECCommitteeLoader()\n",
    "with get_db_session() as session:\n",
    "    loaded = committee_loader.load(session, committee_df)\n",
    "    print(f\"\\n✓ Loaded {loaded} committees to bronze\")"
   ]
  },
  {
   "cell_type": "code",
   "execution_count": null,
   "id": "2",
   "metadata": {},
   "outputs": [],
   "source": [
    "# Cell 3: Verify Committee in Database\n",
    "print(\"=\"*60)\n",
    "print(\"Verify Committee in Database\")\n",
    "print(\"=\"*60)\n",
    "\n",
    "with get_db_session() as session:\n",
    "    from fund_lens_etl.models.bronze.fec import BronzeFECCommittee\n",
    "    from sqlalchemy import select\n",
    "\n",
    "    stmt = select(BronzeFECCommittee).where(\n",
    "        BronzeFECCommittee.committee_id == \"C00840017\"\n",
    "    )\n",
    "    committee = session.execute(stmt).scalar_one_or_none()\n",
    "\n",
    "    if committee:\n",
    "        print(f\"✓ Found committee: {committee.name}\")\n",
    "        print(f\"  Party: {committee.party_full}\")\n",
    "        print(f\"  Type: {committee.committee_type_full}\")\n",
    "        print(f\"  Filing frequency: {committee.filing_frequency}\")\n",
    "        print(f\"  First file date: {committee.first_file_date}\")\n",
    "    else:\n",
    "        print(\"✗ Committee not found!\")"
   ]
  },
  {
   "cell_type": "code",
   "execution_count": null,
   "id": "3",
   "metadata": {},
   "outputs": [],
   "source": [
    "# Cell 4: Test Candidate Extract + Load\n",
    "print(\"=\"*60)\n",
    "print(\"TEST 2: Extract & Load Candidates\")\n",
    "print(\"=\"*60)\n",
    "\n",
    "candidate_extractor = FECCandidateExtractor(api_client=client)\n",
    "candidate_df = candidate_extractor.extract(\n",
    "    state=USState.MD,\n",
    "    cycle=2026,\n",
    ")\n",
    "\n",
    "print(f\"Extracted {len(candidate_df)} candidates\")\n",
    "\n",
    "# Load first 10 for testing\n",
    "test_df = candidate_df.head(10)\n",
    "candidate_loader = BronzeFECCandidateLoader()\n",
    "with get_db_session() as session:\n",
    "    loaded = candidate_loader.load(session, test_df)\n",
    "    print(f\"\\n✓ Loaded {loaded} candidates to bronze\")"
   ]
  },
  {
   "cell_type": "code",
   "execution_count": null,
   "id": "4",
   "metadata": {},
   "outputs": [],
   "source": [
    "# Cell 5: Verify Candidates in Database\n",
    "print(\"=\"*60)\n",
    "print(\"Verify Candidates in Database\")\n",
    "print(\"=\"*60)\n",
    "\n",
    "with get_db_session() as session:\n",
    "    from fund_lens_etl.models.bronze.fec import BronzeFECCandidate\n",
    "\n",
    "    stmt = select(BronzeFECCandidate).limit(5)\n",
    "    candidates = session.execute(stmt).scalars().all()\n",
    "\n",
    "    print(f\"Found {len(candidates)} candidates in database\")\n",
    "    for candidate in candidates:\n",
    "        print(f\"\\n  {candidate.name}\")\n",
    "        print(f\"    Office: {candidate.office_full}\")\n",
    "        print(f\"    Party: {candidate.party_full}\")\n",
    "        print(f\"    District: {candidate.district}\")\n",
    "        print(f\"    Has raised funds: {candidate.has_raised_funds}\")"
   ]
  }
 ],
 "metadata": {
  "kernelspec": {
   "display_name": "Python 3",
   "language": "python",
   "name": "python3"
  },
  "language_info": {
   "codemirror_mode": {
    "name": "ipython",
    "version": 2
   },
   "file_extension": ".py",
   "mimetype": "text/x-python",
   "name": "python",
   "nbconvert_exporter": "python",
   "pygments_lexer": "ipython2",
   "version": "2.7.6"
  }
 },
 "nbformat": 4,
 "nbformat_minor": 5
}
